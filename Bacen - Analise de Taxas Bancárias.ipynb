{
 "cells": [
  {
   "cell_type": "code",
   "execution_count": 1,
   "id": "d260cdff",
   "metadata": {},
   "outputs": [],
   "source": [
    "import requests\n",
    "import pandas as pd\n",
    "\n",
    "from pandasql import sqldf\n",
    "from sklearn import datasets\n",
    "\n",
    "import seaborn as sns\n",
    "import matplotlib.pyplot as plt"
   ]
  },
  {
   "cell_type": "code",
   "execution_count": 2,
   "id": "3c0a80d3",
   "metadata": {},
   "outputs": [],
   "source": [
    "pysqldf = lambda q: sqldf(q, globals())"
   ]
  },
  {
   "cell_type": "code",
   "execution_count": 3,
   "id": "3a406ecc",
   "metadata": {},
   "outputs": [],
   "source": [
    "df = pd.DataFrame()\n",
    "skip = 0\n",
    "\n",
    "while True:\n",
    "    link = f\"https://olinda.bcb.gov.br/olinda/servico/taxaJuros/versao/v2/odata/TaxasJurosMensalPorMes?$top=10000&$skip={skip}&$format=json\"\n",
    "    data = requests.get(link)\n",
    "    data = data.json()\n",
    "    df_uppdate = pd.DataFrame(data[\"value\"])\n",
    "    if data[\"value\"] == []:\n",
    "        break\n",
    "    df = pd.concat([df, df_uppdate])\n",
    "    skip += 10000"
   ]
  },
  {
   "cell_type": "code",
   "execution_count": 4,
   "id": "b5887929",
   "metadata": {},
   "outputs": [],
   "source": [
    "df.columns = [x.lower() for x in df.columns]\n",
    "df.rename(columns={\"instituicaofinanceira\":\"banco\", \"taxajurosaomes\":\"jurosmensal\", \"taxajurosaoano\":\"jurosanual\", \"anomes\":\"data\"}, inplace=True)"
   ]
  },
  {
   "cell_type": "code",
   "execution_count": 5,
   "id": "8aa79b70",
   "metadata": {},
   "outputs": [],
   "source": [
    "df.drop(labels=\"mes\", axis = 1, inplace=True)"
   ]
  },
  {
   "cell_type": "code",
   "execution_count": 6,
   "id": "c69c125e",
   "metadata": {},
   "outputs": [],
   "source": [
    "df[\"data\"] = pd.to_datetime(df[\"data\"], format=\"%Y-%m\")"
   ]
  },
  {
   "cell_type": "code",
   "execution_count": 7,
   "id": "4af31526",
   "metadata": {},
   "outputs": [],
   "source": [
    "df.drop([\"posicao\", \"cnpj8\"], axis=1, inplace=True)"
   ]
  },
  {
   "cell_type": "code",
   "execution_count": 71,
   "id": "fa1eadfe",
   "metadata": {},
   "outputs": [],
   "source": [
    "# Obtendo o ano a partir da coluna data:\n",
    "df[\"ano\"] = pd.DatetimeIndex(df['data']).year"
   ]
  },
  {
   "cell_type": "code",
   "execution_count": 72,
   "id": "069f0976",
   "metadata": {},
   "outputs": [
    {
     "data": {
      "text/html": [
       "<div>\n",
       "<style scoped>\n",
       "    .dataframe tbody tr th:only-of-type {\n",
       "        vertical-align: middle;\n",
       "    }\n",
       "\n",
       "    .dataframe tbody tr th {\n",
       "        vertical-align: top;\n",
       "    }\n",
       "\n",
       "    .dataframe thead th {\n",
       "        text-align: right;\n",
       "    }\n",
       "</style>\n",
       "<table border=\"1\" class=\"dataframe\">\n",
       "  <thead>\n",
       "    <tr style=\"text-align: right;\">\n",
       "      <th></th>\n",
       "      <th>modalidade</th>\n",
       "      <th>banco</th>\n",
       "      <th>jurosmensal</th>\n",
       "      <th>jurosanual</th>\n",
       "      <th>data</th>\n",
       "      <th>ano</th>\n",
       "    </tr>\n",
       "  </thead>\n",
       "  <tbody>\n",
       "    <tr>\n",
       "      <th>0</th>\n",
       "      <td>FINANCIAMENTO IMOBILIÁRIO COM TAXAS REGULADAS ...</td>\n",
       "      <td>CAIXA ECONOMICA FEDERAL</td>\n",
       "      <td>0.80</td>\n",
       "      <td>10.05</td>\n",
       "      <td>2022-09-01</td>\n",
       "      <td>2022</td>\n",
       "    </tr>\n",
       "    <tr>\n",
       "      <th>1</th>\n",
       "      <td>FINANCIAMENTO IMOBILIÁRIO COM TAXAS DE MERCADO...</td>\n",
       "      <td>CAIXA ECONOMICA FEDERAL</td>\n",
       "      <td>0.79</td>\n",
       "      <td>9.91</td>\n",
       "      <td>2022-09-01</td>\n",
       "      <td>2022</td>\n",
       "    </tr>\n",
       "    <tr>\n",
       "      <th>2</th>\n",
       "      <td>FINANCIAMENTO IMOBILIÁRIO COM TAXAS REGULADAS ...</td>\n",
       "      <td>BCO SANTANDER (BRASIL) S.A.</td>\n",
       "      <td>0.97</td>\n",
       "      <td>12.34</td>\n",
       "      <td>2022-09-01</td>\n",
       "      <td>2022</td>\n",
       "    </tr>\n",
       "    <tr>\n",
       "      <th>3</th>\n",
       "      <td>FINANCIAMENTO IMOBILIÁRIO COM TAXAS REGULADAS ...</td>\n",
       "      <td>BCO DO EST. DE SE S.A.</td>\n",
       "      <td>0.00</td>\n",
       "      <td>0.00</td>\n",
       "      <td>2022-09-01</td>\n",
       "      <td>2022</td>\n",
       "    </tr>\n",
       "    <tr>\n",
       "      <th>4</th>\n",
       "      <td>FINANCIAMENTO IMOBILIÁRIO COM TAXAS REGULADAS ...</td>\n",
       "      <td>APE POUPEX</td>\n",
       "      <td>0.36</td>\n",
       "      <td>4.38</td>\n",
       "      <td>2022-09-01</td>\n",
       "      <td>2022</td>\n",
       "    </tr>\n",
       "  </tbody>\n",
       "</table>\n",
       "</div>"
      ],
      "text/plain": [
       "                                          modalidade  \\\n",
       "0  FINANCIAMENTO IMOBILIÁRIO COM TAXAS REGULADAS ...   \n",
       "1  FINANCIAMENTO IMOBILIÁRIO COM TAXAS DE MERCADO...   \n",
       "2  FINANCIAMENTO IMOBILIÁRIO COM TAXAS REGULADAS ...   \n",
       "3  FINANCIAMENTO IMOBILIÁRIO COM TAXAS REGULADAS ...   \n",
       "4  FINANCIAMENTO IMOBILIÁRIO COM TAXAS REGULADAS ...   \n",
       "\n",
       "                         banco  jurosmensal  jurosanual       data   ano  \n",
       "0      CAIXA ECONOMICA FEDERAL         0.80       10.05 2022-09-01  2022  \n",
       "1      CAIXA ECONOMICA FEDERAL         0.79        9.91 2022-09-01  2022  \n",
       "2  BCO SANTANDER (BRASIL) S.A.         0.97       12.34 2022-09-01  2022  \n",
       "3       BCO DO EST. DE SE S.A.         0.00        0.00 2022-09-01  2022  \n",
       "4                   APE POUPEX         0.36        4.38 2022-09-01  2022  "
      ]
     },
     "execution_count": 72,
     "metadata": {},
     "output_type": "execute_result"
    }
   ],
   "source": [
    "df.head()"
   ]
  },
  {
   "cell_type": "code",
   "execution_count": 21,
   "id": "41918b6e",
   "metadata": {},
   "outputs": [
    {
     "data": {
      "text/plain": [
       "array(['FINANCIAMENTO IMOBILIÁRIO COM TAXAS REGULADAS - PRÉ-FIXADO',\n",
       "       'FINANCIAMENTO IMOBILIÁRIO COM TAXAS DE MERCADO - PRÉ-FIXADO',\n",
       "       'FINANCIAMENTO IMOBILIÁRIO COM TAXAS REGULADAS - PÓS-FIXADO REFERENCIADO EM TR',\n",
       "       'FINANCIAMENTO IMOBILIÁRIO COM TAXAS REGULADAS - PÓS-FIXADO REFERENCIADO EM IPCA',\n",
       "       'FINANCIAMENTO IMOBILIÁRIO COM TAXAS DE MERCADO - PÓS-FIXADO REFERENCIADO EM TR',\n",
       "       'FINANCIAMENTO IMOBILIÁRIO COM TAXAS DE MERCADO - PÓS-FIXADO REFERENCIADO EM IPCA'],\n",
       "      dtype=object)"
      ]
     },
     "execution_count": 21,
     "metadata": {},
     "output_type": "execute_result"
    }
   ],
   "source": [
    "df.modalidade.unique()"
   ]
  },
  {
   "cell_type": "code",
   "execution_count": 78,
   "id": "40c09b13",
   "metadata": {},
   "outputs": [],
   "source": [
    "query = \"\"\"\n",
    "        SELECT\n",
    "            *\n",
    "        FROM\n",
    "            df\n",
    "        WHERE\n",
    "            \"banco\" == \"CAIXA ECONOMICA FEDERAL\" AND\n",
    "            \"modalidade\" == \"FINANCIAMENTO IMOBILIÁRIO COM TAXAS DE MERCADO - PRÉ-FIXADO\"\n",
    "        GROUP BY\n",
    "            \"data\"\n",
    "\n",
    "\"\"\""
   ]
  },
  {
   "cell_type": "code",
   "execution_count": 79,
   "id": "c7d66af8",
   "metadata": {},
   "outputs": [
    {
     "data": {
      "text/html": [
       "<div>\n",
       "<style scoped>\n",
       "    .dataframe tbody tr th:only-of-type {\n",
       "        vertical-align: middle;\n",
       "    }\n",
       "\n",
       "    .dataframe tbody tr th {\n",
       "        vertical-align: top;\n",
       "    }\n",
       "\n",
       "    .dataframe thead th {\n",
       "        text-align: right;\n",
       "    }\n",
       "</style>\n",
       "<table border=\"1\" class=\"dataframe\">\n",
       "  <thead>\n",
       "    <tr style=\"text-align: right;\">\n",
       "      <th></th>\n",
       "      <th>modalidade</th>\n",
       "      <th>banco</th>\n",
       "      <th>jurosmensal</th>\n",
       "      <th>jurosanual</th>\n",
       "      <th>data</th>\n",
       "      <th>ano</th>\n",
       "    </tr>\n",
       "  </thead>\n",
       "  <tbody>\n",
       "    <tr>\n",
       "      <th>0</th>\n",
       "      <td>FINANCIAMENTO IMOBILIÁRIO COM TAXAS DE MERCADO...</td>\n",
       "      <td>CAIXA ECONOMICA FEDERAL</td>\n",
       "      <td>0.72</td>\n",
       "      <td>9.02</td>\n",
       "      <td>2020-04-01 00:00:00.000000</td>\n",
       "      <td>2020</td>\n",
       "    </tr>\n",
       "    <tr>\n",
       "      <th>1</th>\n",
       "      <td>FINANCIAMENTO IMOBILIÁRIO COM TAXAS DE MERCADO...</td>\n",
       "      <td>CAIXA ECONOMICA FEDERAL</td>\n",
       "      <td>0.75</td>\n",
       "      <td>9.36</td>\n",
       "      <td>2020-08-01 00:00:00.000000</td>\n",
       "      <td>2020</td>\n",
       "    </tr>\n",
       "    <tr>\n",
       "      <th>2</th>\n",
       "      <td>FINANCIAMENTO IMOBILIÁRIO COM TAXAS DE MERCADO...</td>\n",
       "      <td>CAIXA ECONOMICA FEDERAL</td>\n",
       "      <td>1.07</td>\n",
       "      <td>13.56</td>\n",
       "      <td>2021-03-01 00:00:00.000000</td>\n",
       "      <td>2021</td>\n",
       "    </tr>\n",
       "    <tr>\n",
       "      <th>3</th>\n",
       "      <td>FINANCIAMENTO IMOBILIÁRIO COM TAXAS DE MERCADO...</td>\n",
       "      <td>CAIXA ECONOMICA FEDERAL</td>\n",
       "      <td>0.93</td>\n",
       "      <td>11.80</td>\n",
       "      <td>2021-04-01 00:00:00.000000</td>\n",
       "      <td>2021</td>\n",
       "    </tr>\n",
       "    <tr>\n",
       "      <th>4</th>\n",
       "      <td>FINANCIAMENTO IMOBILIÁRIO COM TAXAS DE MERCADO...</td>\n",
       "      <td>CAIXA ECONOMICA FEDERAL</td>\n",
       "      <td>1.07</td>\n",
       "      <td>13.62</td>\n",
       "      <td>2021-05-01 00:00:00.000000</td>\n",
       "      <td>2021</td>\n",
       "    </tr>\n",
       "  </tbody>\n",
       "</table>\n",
       "</div>"
      ],
      "text/plain": [
       "                                          modalidade                    banco  \\\n",
       "0  FINANCIAMENTO IMOBILIÁRIO COM TAXAS DE MERCADO...  CAIXA ECONOMICA FEDERAL   \n",
       "1  FINANCIAMENTO IMOBILIÁRIO COM TAXAS DE MERCADO...  CAIXA ECONOMICA FEDERAL   \n",
       "2  FINANCIAMENTO IMOBILIÁRIO COM TAXAS DE MERCADO...  CAIXA ECONOMICA FEDERAL   \n",
       "3  FINANCIAMENTO IMOBILIÁRIO COM TAXAS DE MERCADO...  CAIXA ECONOMICA FEDERAL   \n",
       "4  FINANCIAMENTO IMOBILIÁRIO COM TAXAS DE MERCADO...  CAIXA ECONOMICA FEDERAL   \n",
       "\n",
       "   jurosmensal  jurosanual                        data   ano  \n",
       "0         0.72        9.02  2020-04-01 00:00:00.000000  2020  \n",
       "1         0.75        9.36  2020-08-01 00:00:00.000000  2020  \n",
       "2         1.07       13.56  2021-03-01 00:00:00.000000  2021  \n",
       "3         0.93       11.80  2021-04-01 00:00:00.000000  2021  \n",
       "4         1.07       13.62  2021-05-01 00:00:00.000000  2021  "
      ]
     },
     "execution_count": 79,
     "metadata": {},
     "output_type": "execute_result"
    }
   ],
   "source": [
    "result = pysqldf(query)\n",
    "result.head()"
   ]
  },
  {
   "cell_type": "code",
   "execution_count": 80,
   "id": "b98a00cb",
   "metadata": {},
   "outputs": [
    {
     "data": {
      "text/plain": [
       "<AxesSubplot:xlabel='data', ylabel='jurosanual'>"
      ]
     },
     "execution_count": 80,
     "metadata": {},
     "output_type": "execute_result"
    },
    {
     "data": {
      "image/png": "[encoded data removed]",
      "text/plain": [
       "<Figure size 432x288 with 1 Axes>"
      ]
     },
     "metadata": {
      "needs_background": "light"
     },
     "output_type": "display_data"
    }
   ],
   "source": [
    "sns.barplot(y = result[\"jurosanual\"], x = result[\"data\"])"
   ]
  },
  {
   "cell_type": "code",
   "execution_count": 81,
   "id": "deabeeac",
   "metadata": {},
   "outputs": [],
   "source": [
    "query = \"\"\"\n",
    "        SELECT\n",
    "            AVG(jurosanual) AS juros_anual,\n",
    "            ano\n",
    "        FROM\n",
    "            df\n",
    "        WHERE\n",
    "            \"banco\" == \"CAIXA ECONOMICA FEDERAL\" AND\n",
    "            \"modalidade\" == \"FINANCIAMENTO IMOBILIÁRIO COM TAXAS DE MERCADO - PRÉ-FIXADO\"\n",
    "        GROUP BY\n",
    "            ano\n",
    "\"\"\""
   ]
  },
  {
   "cell_type": "code",
   "execution_count": 82,
   "id": "4b5ea6b2",
   "metadata": {},
   "outputs": [
    {
     "data": {
      "text/html": [
       "<div>\n",
       "<style scoped>\n",
       "    .dataframe tbody tr th:only-of-type {\n",
       "        vertical-align: middle;\n",
       "    }\n",
       "\n",
       "    .dataframe tbody tr th {\n",
       "        vertical-align: top;\n",
       "    }\n",
       "\n",
       "    .dataframe thead th {\n",
       "        text-align: right;\n",
       "    }\n",
       "</style>\n",
       "<table border=\"1\" class=\"dataframe\">\n",
       "  <thead>\n",
       "    <tr style=\"text-align: right;\">\n",
       "      <th></th>\n",
       "      <th>juros_anual</th>\n",
       "      <th>ano</th>\n",
       "    </tr>\n",
       "  </thead>\n",
       "  <tbody>\n",
       "    <tr>\n",
       "      <th>0</th>\n",
       "      <td>9.190000</td>\n",
       "      <td>2020</td>\n",
       "    </tr>\n",
       "    <tr>\n",
       "      <th>1</th>\n",
       "      <td>12.097000</td>\n",
       "      <td>2021</td>\n",
       "    </tr>\n",
       "    <tr>\n",
       "      <th>2</th>\n",
       "      <td>9.884444</td>\n",
       "      <td>2022</td>\n",
       "    </tr>\n",
       "  </tbody>\n",
       "</table>\n",
       "</div>"
      ],
      "text/plain": [
       "   juros_anual   ano\n",
       "0     9.190000  2020\n",
       "1    12.097000  2021\n",
       "2     9.884444  2022"
      ]
     },
     "execution_count": 82,
     "metadata": {},
     "output_type": "execute_result"
    }
   ],
   "source": [
    "result = pysqldf(query)\n",
    "result"
   ]
  },
  {
   "cell_type": "code",
   "execution_count": 83,
   "id": "eae2a8c3",
   "metadata": {},
   "outputs": [
    {
     "data": {
      "text/plain": [
       "<AxesSubplot:xlabel='ano', ylabel='juros_anual'>"
      ]
     },
     "execution_count": 83,
     "metadata": {},
     "output_type": "execute_result"
    },
    {
     "data": {
      "image/png": "[encoded data removed]",
      "text/plain": [
       "<Figure size 432x288 with 1 Axes>"
      ]
     },
     "metadata": {
      "needs_background": "light"
     },
     "output_type": "display_data"
    }
   ],
   "source": [
    "sns.barplot(y = result[\"juros_anual\"], x = result[\"ano\"])"
   ]
  }
 ],
 "metadata": {
  "kernelspec": {
   "display_name": "Python 3 (ipykernel)",
   "language": "python",
   "name": "python3"
  },
  "language_info": {
   "codemirror_mode": {
    "name": "ipython",
    "version": 3
   },
   "file_extension": ".py",
   "mimetype": "text/x-python",
   "name": "python",
   "nbconvert_exporter": "python",
   "pygments_lexer": "ipython3",
   "version": "3.10.5"
  }
 },
 "nbformat": 4,
 "nbformat_minor": 5
}
